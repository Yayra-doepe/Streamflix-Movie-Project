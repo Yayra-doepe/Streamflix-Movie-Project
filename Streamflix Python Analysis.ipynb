{
 "cells": [
  {
   "cell_type": "code",
   "execution_count": null,
   "id": "408559eb",
   "metadata": {},
   "outputs": [],
   "source": [
    "import pandas as pd\n",
    "import matplotlib.pyplot as plt\n",
    "import seaborn as sns\n",
    "import plotly.express as px"
   ]
  },
  {
   "cell_type": "code",
   "execution_count": null,
   "id": "2fce0e37",
   "metadata": {},
   "outputs": [],
   "source": [
    "movies = pd.read_csv('Movies.csv')\n",
    "ratings = pd.read_csv('Ratings.csv')\n",
    "users = pd.read_csv('Users.csv')"
   ]
  },
  {
   "cell_type": "markdown",
   "id": "11a744a0",
   "metadata": {},
   "source": [
    "Top 10 Movies by Average Rating"
   ]
  },
  {
   "cell_type": "code",
   "execution_count": null,
   "id": "891f57ce",
   "metadata": {},
   "outputs": [],
   "source": [
    "# Merge ratings with movie titles\n",
    "movie_ratings = ratings.merge(movies, on='MovieID')\n",
    "\n",
    "# Get top 10 movies by average rating\n",
    "avg_ratings = movie_ratings.groupby('Title')['Rating'].mean().sort_values(ascending=False).head(10)\n",
    "\n",
    "# Convert to DataFrame for easier plotting\n",
    "avg_ratings_df = avg_ratings.reset_index()\n",
    "\n",
    "# Plot\n",
    "plt.figure(figsize=(10, 6))\n",
    "sns.barplot(\n",
    "    data=avg_ratings_df,\n",
    "    x='Rating',\n",
    "    y='Title',\n",
    "    hue='Title',        \n",
    "    palette='Set2',\n",
    "    dodge=False,       \n",
    "    legend=False        \n",
    ")\n",
    "plt.xlabel('Average Rating')\n",
    "plt.title('Top 10 Movies by Average Ratings')\n",
    "plt.tight_layout()\n",
    "plt.show()"
   ]
  },
  {
   "cell_type": "markdown",
   "id": "fa2fc282",
   "metadata": {},
   "source": [
    "Top 10 Movies by Views"
   ]
  },
  {
   "cell_type": "code",
   "execution_count": null,
   "id": "f3ea3064",
   "metadata": {},
   "outputs": [],
   "source": [
    "# Get top 10 most viewed movies\n",
    "top_movies = movies.sort_values('TotalViews', ascending=False).head(10)\n",
    "\n",
    "# Plot using hue=Title to avoid deprecation warning\n",
    "plt.figure(figsize=(10, 5))\n",
    "sns.barplot(\n",
    "    data=top_movies,\n",
    "    x='TotalViews',\n",
    "    y='Title',\n",
    "    hue='Title',        \n",
    "    palette='Set2',\n",
    "    dodge=False,\n",
    "    legend=False         \n",
    ")\n",
    "plt.title('Top 10 Most Viewed Movies')\n",
    "plt.xlabel('Total Views')\n",
    "plt.ylabel('Movie Title')\n",
    "plt.tight_layout()\n",
    "plt.show()"
   ]
  },
  {
   "cell_type": "markdown",
   "id": "1a6f0056",
   "metadata": {},
   "source": [
    "Total Watch Time by Subscription status"
   ]
  },
  {
   "cell_type": "code",
   "execution_count": null,
   "id": "20e20fb0",
   "metadata": {},
   "outputs": [],
   "source": [
    "# Step 1: Group and sum watch time by SubscriptionStatus\n",
    "watch_time_share = users.groupby('SubscriptionStatus')['TotalWatchTime'].sum()\n",
    "\n",
    "# Step 2: Plot pie chart\n",
    "plt.figure(figsize=(6, 6))\n",
    "plt.pie(\n",
    "    watch_time_share, \n",
    "    labels=watch_time_share.index, \n",
    "    autopct='%1.1f%%', \n",
    "    startangle=140, \n",
    "    colors=sns.color_palette('Set3')\n",
    ")\n",
    "\n",
    "plt.title('Share of Total Watch Time by Subscription Status')\n",
    "plt.axis('equal') \n",
    "plt.tight_layout()\n",
    "plt.show()"
   ]
  },
  {
   "cell_type": "markdown",
   "id": "989dfbdf",
   "metadata": {},
   "source": [
    "Most Popular Genres "
   ]
  },
  {
   "cell_type": "code",
   "execution_count": null,
   "id": "764b28a1",
   "metadata": {},
   "outputs": [],
   "source": [
    "# Split genres on '|' and count frequency of each genre \n",
    "all_genres = movies['Genres'].str.split('|', expand=True).stack().reset_index(drop=True)\n",
    "genre_counts = all_genres.value_counts().head(10)\n",
    "\n",
    "# Convert to DataFrame for plotting\n",
    "genre_df = genre_counts.reset_index()\n",
    "genre_df.columns = ['Genre', 'Count']\n",
    "\n",
    "# Plot\n",
    "plt.figure(figsize=(10, 5))\n",
    "sns.barplot(\n",
    "    data=genre_df,\n",
    "    x='Genre',\n",
    "    y='Count',\n",
    "    hue='Genre',         \n",
    "    palette='Set2',\n",
    "    dodge=False,         \n",
    "    legend=False         \n",
    ")\n",
    "plt.ylabel('Number of Movies')\n",
    "plt.title('Most Popular Genres')\n",
    "plt.xticks(rotation=45)\n",
    "plt.tight_layout()\n",
    "plt.show()"
   ]
  },
  {
   "cell_type": "markdown",
   "id": "fbff9b68",
   "metadata": {},
   "source": [
    "User Distribution by Age Group"
   ]
  },
  {
   "cell_type": "code",
   "execution_count": null,
   "id": "8ba53747",
   "metadata": {},
   "outputs": [],
   "source": [
    "# Define age groups\n",
    "bins = [0, 18, 25, 35, 50, 65, 100]\n",
    "labels = ['<18', '18-24', '25-34', '35-49', '50-64', '65+']\n",
    "users['AgeGroup'] = pd.cut(users['Age'], bins=bins, labels=labels, right=False)\n",
    "\n",
    "# Create a grouped dataframe (no pivot/unstack yet)\n",
    "plt.figure(figsize=(10, 6))\n",
    "sns.countplot(\n",
    "    data=users,\n",
    "    x='AgeGroup',\n",
    "    hue='SubscriptionStatus',\n",
    "    palette='Set2'\n",
    ")\n",
    "\n",
    "plt.title('User Distribution by Age Group and Subscription Status')\n",
    "plt.xlabel('Age Group')\n",
    "plt.ylabel('Number of Users')\n",
    "plt.legend(title='Subscription Status')\n",
    "plt.tight_layout()\n",
    "plt.show()"
   ]
  },
  {
   "cell_type": "markdown",
   "id": "c187cb1f",
   "metadata": {},
   "source": [
    "Subscription Status Distribution"
   ]
  },
  {
   "cell_type": "code",
   "execution_count": null,
   "id": "feb8b0e9",
   "metadata": {},
   "outputs": [],
   "source": [
    "# Step 1: Subscription counts\n",
    "subscription_counts = users['SubscriptionStatus'].value_counts()\n",
    "\n",
    "# Step 2: Plot pie chart\n",
    "plt.figure(figsize=(6, 6))\n",
    "plt.pie(\n",
    "    subscription_counts, \n",
    "    labels=subscription_counts.index, \n",
    "    autopct='%1.1f%%', \n",
    "    startangle=140, \n",
    "    colors=sns.color_palette('pastel')\n",
    ")\n",
    "plt.title('Distribution of Subscription Status')\n",
    "plt.axis('equal')\n",
    "plt.show()"
   ]
  },
  {
   "cell_type": "markdown",
   "id": "c68e3c3d",
   "metadata": {},
   "source": [
    "User Distribution by Country"
   ]
  },
  {
   "cell_type": "code",
   "execution_count": null,
   "id": "1a65ea8c",
   "metadata": {},
   "outputs": [],
   "source": [
    "# Get top countries by user count\n",
    "country_counts = users['Country'].value_counts().head(10).reset_index()\n",
    "country_counts.columns = ['Country', 'Count']\n",
    "\n",
    "# Plot with hue assigned to Country\n",
    "plt.figure(figsize=(10, 5))\n",
    "sns.barplot(\n",
    "    data=country_counts,\n",
    "    x='Country',\n",
    "    y='Count',\n",
    "    hue='Country',       \n",
    "    palette='Set2',\n",
    "    dodge=False,          \n",
    "    legend=False          \n",
    ")\n",
    "plt.title('Top Countries by Number of Users')\n",
    "plt.ylabel('Users')\n",
    "plt.xticks(rotation=45)\n",
    "plt.tight_layout()\n",
    "plt.show()"
   ]
  },
  {
   "cell_type": "code",
   "execution_count": null,
   "id": "a39917c7",
   "metadata": {},
   "outputs": [],
   "source": [
    "# Geographic Map (using Plotly) \n",
    "import plotly.io as pio\n",
    "\n",
    "# Set renderer to browser\n",
    "pio.renderers.default = \"browser\"\n",
    "\n",
    "# Sample country count DataFrame (replace with your actual data)\n",
    "country_counts = users['Country'].value_counts().reset_index()\n",
    "country_counts.columns = ['Country', 'UserCount']\n",
    "\n",
    "# Create choropleth\n",
    "fig = px.choropleth(country_counts,\n",
    "                    locations='Country',\n",
    "                    locationmode='country names',\n",
    "                    color='UserCount',\n",
    "                    color_continuous_scale='blues',\n",
    "                    title='User Distribution by Country')\n",
    "\n",
    "# Show the plot\n",
    "fig.show()"
   ]
  },
  {
   "cell_type": "markdown",
   "id": "92c5ef38",
   "metadata": {},
   "source": [
    "Device Usage Distribution"
   ]
  },
  {
   "cell_type": "code",
   "execution_count": null,
   "id": "b153d872",
   "metadata": {},
   "outputs": [],
   "source": [
    "# Count devices and convert to DataFrame\n",
    "device_counts = users['Device'].value_counts().reset_index()\n",
    "device_counts.columns = ['Device', 'Count']\n",
    "\n",
    "# Plot with hue assigned\n",
    "plt.figure(figsize=(8, 5))\n",
    "sns.barplot(\n",
    "    data=device_counts,\n",
    "    x='Device',\n",
    "    y='Count',\n",
    "    hue='Device',         \n",
    "    palette='cool',\n",
    "    dodge=False,         \n",
    "    legend=False         \n",
    ")\n",
    "plt.title('Distribution of Device Usage')\n",
    "plt.ylabel('Users')\n",
    "plt.xticks(rotation=45)\n",
    "plt.tight_layout()\n",
    "plt.show()"
   ]
  },
  {
   "cell_type": "markdown",
   "id": "69b3fe2a",
   "metadata": {},
   "source": [
    "Bonus"
   ]
  },
  {
   "cell_type": "code",
   "execution_count": null,
   "id": "513ab555",
   "metadata": {},
   "outputs": [],
   "source": [
    "# Convert 'Year' to numeric, drop NaNs\n",
    "movies['Year'] = pd.to_numeric(movies['Year'], errors='coerce')\n",
    "movies = movies.dropna(subset=['Year'])\n",
    "\n",
    "# Convert year to integer\n",
    "movies['Year'] = movies['Year'].astype(int)\n",
    "\n",
    "# Filter for movies from 1975 onwards\n",
    "movies = movies[movies['Year'] >= 1975]"
   ]
  },
  {
   "cell_type": "code",
   "execution_count": null,
   "id": "bdc9591d",
   "metadata": {},
   "outputs": [],
   "source": [
    "# Merge datasets\n",
    "df = ratings.merge(users, on='UserID').merge(movies, on='MovieID')\n",
    "\n",
    "# Filter to female users only — create a copy to avoid SettingWithCopyWarning\n",
    "df_female = df[df['Gender'] == 'F'].copy()\n",
    "\n",
    "# Split genres into separate rows\n",
    "df_female['Genres'] = df_female['Genres'].str.split('|')\n",
    "df_female = df_female.explode('Genres')\n",
    "\n",
    "# Group by Year and Genre, count how many ratings by women\n",
    "genre_trend = df_female.groupby(['Year', 'Genres']).size().reset_index(name='Count')\n",
    "\n",
    "# Get top 5 genres overall for female users\n",
    "top_genres = genre_trend.groupby('Genres')['Count'].sum().nlargest(5).index\n",
    "filtered = genre_trend[genre_trend['Genres'].isin(top_genres)]\n",
    "\n",
    "# Plot\n",
    "plt.figure(figsize=(12, 6))\n",
    "sns.lineplot(data=filtered, x='Year', y='Count', hue='Genres', marker='o')\n",
    "plt.title(\"Evolution of Genre Preferences Among Women (1975–Present)\")\n",
    "plt.xlabel(\"Year\")\n",
    "plt.ylabel(\"Number of Ratings by Female Users\")\n",
    "plt.legend(title='Genre')\n",
    "plt.tight_layout()\n",
    "plt.show()"
   ]
  }
 ],
 "metadata": {
  "kernelspec": {
   "display_name": ".venv",
   "language": "python",
   "name": "python3"
  },
  "language_info": {
   "codemirror_mode": {
    "name": "ipython",
    "version": 3
   },
   "file_extension": ".py",
   "mimetype": "text/x-python",
   "name": "python",
   "nbconvert_exporter": "python",
   "pygments_lexer": "ipython3",
   "version": "3.13.3"
  }
 },
 "nbformat": 4,
 "nbformat_minor": 5
}
